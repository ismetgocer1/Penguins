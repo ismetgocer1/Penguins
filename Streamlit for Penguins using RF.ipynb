{
 "cells": [
  {
   "cell_type": "markdown",
   "id": "e4b6c759",
   "metadata": {},
   "source": [
    "# Streamlit for Penguin Data Set RF"
   ]
  },
  {
   "cell_type": "code",
   "execution_count": 23,
   "id": "ea44562c",
   "metadata": {},
   "outputs": [
    {
     "name": "stdout",
     "output_type": "stream",
     "text": [
      "Overwriting Streamlit_app.py\n"
     ]
    }
   ],
   "source": [
    "%%writefile Streamlit_app.py\n",
    "import streamlit as st\n",
    "import pandas as pd\n",
    "import joblib\n",
    "\n",
    "# Load the saved model\n",
    "pipeline = joblib.load('pipe_final_RF_model.joblib')\n",
    "\n",
    "#Add image\n",
    "st.sidebar.image(\"penguins.png\", width=300, caption=\"Antartica Penguins\") \n",
    "\n",
    "# Streamlit title\n",
    "st.title(\"Penguin Species Prediction Model\")\n",
    "\n",
    "\n",
    "# User input\n",
    "culmen_length_mm = st.slider(\"Culmen Length\", 30, 60, 45)\n",
    "culmen_depth_mm = st.slider(\"Culmen Depth\", 13, 22, 15)\n",
    "flipper_length_mm = st.slider(\"Flipper Length\", 170, 232, 200)\n",
    "body_mass_g = st.slider(\"Body Mass\", 2700, 6300, 4000)\n",
    "sex=st.sidebar.selectbox(\"Select a Gender\", [\"Female\", \"Male\"])\n",
    "island=st.sidebar.selectbox(\"Island\", ['Torgersen', 'Biscoe', 'Dream'])\n",
    "\n",
    "\n",
    "# Create a DataFrame from the user input\n",
    "new_data = pd.DataFrame({\n",
    "    'culmen_length_mm': [culmen_length_mm],\n",
    "    'culmen_depth_mm': [culmen_depth_mm],\n",
    "    'flipper_length_mm': [flipper_length_mm],\n",
    "    'body_mass_g': [body_mass_g],\n",
    "    'sex': [sex],\n",
    "    'island': [island]})\n",
    "\n",
    "# Make a prediction\n",
    "if st.button(\"Make Prediction\"):\n",
    "    prediction = pipeline.predict(new_data)\n",
    "    \n",
    "    # Display the results\n",
    "    st.write(f\"Predicted class: {prediction[0]}\")\n"
   ]
  },
  {
   "cell_type": "code",
   "execution_count": null,
   "id": "1cbad7be",
   "metadata": {},
   "outputs": [],
   "source": [
    "!streamlit run Streamlit_app.py"
   ]
  },
  {
   "cell_type": "code",
   "execution_count": null,
   "id": "0f553018",
   "metadata": {},
   "outputs": [],
   "source": []
  }
 ],
 "metadata": {
  "kernelspec": {
   "display_name": "Python 3 (ipykernel)",
   "language": "python",
   "name": "python3"
  },
  "language_info": {
   "codemirror_mode": {
    "name": "ipython",
    "version": 3
   },
   "file_extension": ".py",
   "mimetype": "text/x-python",
   "name": "python",
   "nbconvert_exporter": "python",
   "pygments_lexer": "ipython3",
   "version": "3.10.9"
  },
  "toc": {
   "base_numbering": 1,
   "nav_menu": {},
   "number_sections": true,
   "sideBar": true,
   "skip_h1_title": false,
   "title_cell": "Table of Contents",
   "title_sidebar": "Contents",
   "toc_cell": false,
   "toc_position": {},
   "toc_section_display": true,
   "toc_window_display": false
  }
 },
 "nbformat": 4,
 "nbformat_minor": 5
}
